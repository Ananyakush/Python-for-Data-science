{
 "cells": [
  {
   "cell_type": "markdown",
   "id": "53a4917b-62f7-4f19-a2a5-a8580b896ef7",
   "metadata": {},
   "source": [
    "## Python Data Structure"
   ]
  },
  {
   "cell_type": "code",
   "execution_count": 1,
   "id": "7f2019d0-2f9d-4c5b-b0bb-464266c68034",
   "metadata": {},
   "outputs": [],
   "source": [
    "my_str =\"Ananya Kushwaha\""
   ]
  },
  {
   "cell_type": "code",
   "execution_count": 3,
   "id": "30edb965-6395-445a-89b6-e3860ce8606c",
   "metadata": {},
   "outputs": [
    {
     "name": "stdout",
     "output_type": "stream",
     "text": [
      "False\n",
      "False\n",
      "False\n",
      "True\n"
     ]
    }
   ],
   "source": [
    "print(my_str.isalnum()) ##check if all character are numbers\n",
    "print(my_str.isalpha()) ##check is all char in string are alphabetic.\n",
    "print(my_str.isdigit()) ## if string contains digit\n",
    "print(my_str.istitle()) ## if string contains title words"
   ]
  },
  {
   "cell_type": "markdown",
   "id": "0e95cf88-ce7c-4430-b4db-a8a1523bba09",
   "metadata": {},
   "source": [
    "### Boolean and Logical Operators"
   ]
  },
  {
   "cell_type": "code",
   "execution_count": null,
   "id": "0383f680-f640-4f77-9998-39e11564157b",
   "metadata": {},
   "outputs": [],
   "source": [
    "True and True"
   ]
  },
  {
   "cell_type": "code",
   "execution_count": null,
   "id": "47ba6d3f-e5ef-466d-89aa-aa03efe195a4",
   "metadata": {},
   "outputs": [],
   "source": [
    "True and False"
   ]
  },
  {
   "cell_type": "code",
   "execution_count": null,
   "id": "435716ab-c27f-4586-821f-0c9f6beb71be",
   "metadata": {},
   "outputs": [],
   "source": [
    "True or False"
   ]
  },
  {
   "cell_type": "code",
   "execution_count": null,
   "id": "e272e095-14e5-4620-966a-28a1d1215cfc",
   "metadata": {},
   "outputs": [],
   "source": [
    "True or True"
   ]
  },
  {
   "cell_type": "code",
   "execution_count": null,
   "id": "1efa74c6-702a-43b0-814a-e8d6968085ef",
   "metadata": {},
   "outputs": [],
   "source": [
    "str_example = \"Hello world\"\n",
    "my_str = 'Ananya'"
   ]
  },
  {
   "cell_type": "code",
   "execution_count": null,
   "id": "3c8ff27c-8bc7-4618-888c-973d467b723a",
   "metadata": {},
   "outputs": [],
   "source": [
    "my_str.isalpha() or str_example.isnumeric()"
   ]
  },
  {
   "cell_type": "markdown",
   "id": "25e7c42d-f0a7-4730-a39a-ac1576b059cf",
   "metadata": {},
   "source": [
    "### LISTS"
   ]
  },
  {
   "cell_type": "markdown",
   "id": "de376733-8ff9-4c5e-a0f9-6329e638ca9d",
   "metadata": {},
   "source": [
    "A list in Python is a versatile and mutable data structure used to store an ordered collection of items. \n",
    "Lists are defined by enclosing comma-separated values within square brackets []"
   ]
  },
  {
   "cell_type": "code",
   "execution_count": null,
   "id": "9162bcac-d5df-44ca-9c71-394f4fc9542c",
   "metadata": {},
   "outputs": [],
   "source": [
    "type([])"
   ]
  },
  {
   "cell_type": "code",
   "execution_count": null,
   "id": "31ad2baf-240d-4fd6-a074-4386885e1aa3",
   "metadata": {},
   "outputs": [],
   "source": [
    "lst_example = []"
   ]
  },
  {
   "cell_type": "code",
   "execution_count": null,
   "id": "413197b5-2c1b-47eb-9a8d-9051a0a2ac24",
   "metadata": {},
   "outputs": [],
   "source": [
    "type(lst_example)"
   ]
  },
  {
   "cell_type": "code",
   "execution_count": 13,
   "id": "268969f7-01d1-4363-8307-1e493ba81fc4",
   "metadata": {},
   "outputs": [
    {
     "data": {
      "text/plain": [
       "list"
      ]
     },
     "execution_count": 13,
     "metadata": {},
     "output_type": "execute_result"
    }
   ],
   "source": [
    "## another way to define a list is by using list in-built function\n",
    "lst = list()\n",
    "type(lst)"
   ]
  },
  {
   "cell_type": "code",
   "execution_count": 15,
   "id": "6c46978d-9f84-4568-aa52-89fa2bacd678",
   "metadata": {},
   "outputs": [
    {
     "data": {
      "text/plain": [
       "list"
      ]
     },
     "execution_count": 15,
     "metadata": {},
     "output_type": "execute_result"
    }
   ],
   "source": [
    "lst=['maths','stats',100,200,300]\n",
    "type(lst)"
   ]
  },
  {
   "cell_type": "code",
   "execution_count": 17,
   "id": "dc86f662-2dcd-4cc6-aab3-a79860e3ef76",
   "metadata": {},
   "outputs": [
    {
     "data": {
      "text/plain": [
       "5"
      ]
     },
     "execution_count": 17,
     "metadata": {},
     "output_type": "execute_result"
    }
   ],
   "source": [
    "len(lst)"
   ]
  },
  {
   "cell_type": "markdown",
   "id": "6d5a9286-213f-4674-9ab7-f704b81bb20f",
   "metadata": {},
   "source": [
    "### Append"
   ]
  },
  {
   "cell_type": "code",
   "execution_count": 20,
   "id": "b3e9ef51-d5b6-487e-a1c8-ed723e4327b9",
   "metadata": {},
   "outputs": [
    {
     "data": {
      "text/plain": [
       "['maths', 'stats', 100, 200, 300, 'Ananya']"
      ]
     },
     "execution_count": 20,
     "metadata": {},
     "output_type": "execute_result"
    }
   ],
   "source": [
    "## append is used to add element in the list.\n",
    "lst.append('Ananya')\n",
    "lst"
   ]
  },
  {
   "cell_type": "code",
   "execution_count": 22,
   "id": "761a81b5-96bf-4c31-8591-f2be96248280",
   "metadata": {},
   "outputs": [
    {
     "data": {
      "text/plain": [
       "['maths', 'stats', 100, 200, 300, 'Ananya', ['jhon', 'duke']]"
      ]
     },
     "execution_count": 22,
     "metadata": {},
     "output_type": "execute_result"
    }
   ],
   "source": [
    "## nested list id we append two elements.\n",
    "lst.append([\"jhon\",\"duke\"])\n",
    "lst"
   ]
  },
  {
   "cell_type": "code",
   "execution_count": 24,
   "id": "05b7a31e-fad2-4545-a5dd-120cc2b12dc6",
   "metadata": {},
   "outputs": [
    {
     "data": {
      "text/plain": [
       "100"
      ]
     },
     "execution_count": 24,
     "metadata": {},
     "output_type": "execute_result"
    }
   ],
   "source": [
    "## indexing in list\n",
    "lst[2]"
   ]
  },
  {
   "cell_type": "code",
   "execution_count": 26,
   "id": "60a6e68a-e264-4a87-b1cf-20938672813a",
   "metadata": {},
   "outputs": [
    {
     "data": {
      "text/plain": [
       "['stats', 100, 200, 300, 'Ananya', ['jhon', 'duke']]"
      ]
     },
     "execution_count": 26,
     "metadata": {},
     "output_type": "execute_result"
    }
   ],
   "source": [
    "lst[1:]"
   ]
  },
  {
   "cell_type": "code",
   "execution_count": 28,
   "id": "c0b92d6f-a50e-435e-ae03-8f324718f156",
   "metadata": {},
   "outputs": [
    {
     "data": {
      "text/plain": [
       "['stats', 100, 200, 300]"
      ]
     },
     "execution_count": 28,
     "metadata": {},
     "output_type": "execute_result"
    }
   ],
   "source": [
    "lst[1:5]"
   ]
  },
  {
   "cell_type": "markdown",
   "id": "782c5408-cf6a-467a-b481-fe170cef6c29",
   "metadata": {},
   "source": [
    "## Insert"
   ]
  },
  {
   "cell_type": "code",
   "execution_count": 31,
   "id": "91d381e0-4b28-43fb-b9d0-d30f7dbf12b8",
   "metadata": {},
   "outputs": [
    {
     "data": {
      "text/plain": [
       "['maths', 'stats', 100, 200, 300, 'Ananya', 'kushwaha', ['jhon', 'duke']]"
      ]
     },
     "execution_count": 31,
     "metadata": {},
     "output_type": "execute_result"
    }
   ],
   "source": [
    "## insert in a specific order -- lst.insert(index, object, /)\n",
    "lst.insert(6,\"kushwaha\")\n",
    "lst"
   ]
  },
  {
   "cell_type": "markdown",
   "id": "96b74eeb-c8ed-4528-99cf-0c6fa74a2a42",
   "metadata": {},
   "source": [
    "## Extend"
   ]
  },
  {
   "cell_type": "code",
   "execution_count": 36,
   "id": "d7801a83-9c68-4d4d-b1c9-a414d135617b",
   "metadata": {},
   "outputs": [
    {
     "data": {
      "text/plain": [
       "[1, 2, 3, 4, 5, 6, 8, 9]"
      ]
     },
     "execution_count": 36,
     "metadata": {},
     "output_type": "execute_result"
    }
   ],
   "source": [
    "## this dsnt create a nested leist rather extends the list\n",
    "lst = [1,2,3,4,5,6]\n",
    "lst.extend([8,9])\n",
    "lst"
   ]
  },
  {
   "cell_type": "markdown",
   "id": "175b0d1f-f16b-4d62-9760-424d52104a70",
   "metadata": {},
   "source": [
    "### various operation the we can perform on list."
   ]
  },
  {
   "cell_type": "code",
   "execution_count": 41,
   "id": "20daeee4-3d53-487a-9198-0d06ea21f32f",
   "metadata": {},
   "outputs": [
    {
     "data": {
      "text/plain": [
       "38"
      ]
     },
     "execution_count": 41,
     "metadata": {},
     "output_type": "execute_result"
    }
   ],
   "source": [
    "## sum od all list elements\n",
    "sum(lst)"
   ]
  },
  {
   "cell_type": "code",
   "execution_count": 43,
   "id": "3cc4d9b3-a0cf-4f53-9365-a47141e7bb11",
   "metadata": {},
   "outputs": [
    {
     "data": {
      "text/plain": [
       "9"
      ]
     },
     "execution_count": 43,
     "metadata": {},
     "output_type": "execute_result"
    }
   ],
   "source": [
    "## pop() try to pick element acc to specified index and remove it from list\n",
    "lst.pop()"
   ]
  },
  {
   "cell_type": "code",
   "execution_count": 45,
   "id": "1b1cdad5-5326-4568-8e55-c2b6328c7b4d",
   "metadata": {},
   "outputs": [
    {
     "data": {
      "text/plain": [
       "3"
      ]
     },
     "execution_count": 45,
     "metadata": {},
     "output_type": "execute_result"
    }
   ],
   "source": [
    "lst.pop(2)"
   ]
  },
  {
   "cell_type": "code",
   "execution_count": 47,
   "id": "e7a2bf83-a004-4ba8-ae9e-8b06f3c9b238",
   "metadata": {},
   "outputs": [
    {
     "data": {
      "text/plain": [
       "[1, 2, 4, 5, 6, 8]"
      ]
     },
     "execution_count": 47,
     "metadata": {},
     "output_type": "execute_result"
    }
   ],
   "source": [
    "lst"
   ]
  },
  {
   "cell_type": "code",
   "execution_count": 53,
   "id": "502b037c-2a74-44c4-9c9c-3355c3d311aa",
   "metadata": {},
   "outputs": [
    {
     "data": {
      "text/plain": [
       "3"
      ]
     },
     "execution_count": 53,
     "metadata": {},
     "output_type": "execute_result"
    }
   ],
   "source": [
    "## count() : calculate total occurance of the element of the list --lst.count(value, /)\n",
    "\n",
    "lst=[1,4,1,1,2,3,4,4,5]\n",
    "lst.count(1)"
   ]
  },
  {
   "cell_type": "code",
   "execution_count": 55,
   "id": "755a4c48-515f-43e7-800f-f7b48b96166c",
   "metadata": {},
   "outputs": [
    {
     "data": {
      "text/plain": [
       "0"
      ]
     },
     "execution_count": 55,
     "metadata": {},
     "output_type": "execute_result"
    }
   ],
   "source": [
    "## index - returns the index of first occurance. start and end index are not necessary parameters.\n",
    "## lst.index(value, start index, stop index, /)\n",
    "lst.index(1)"
   ]
  },
  {
   "cell_type": "markdown",
   "id": "e87052c2-9976-4eed-a8de-2733b052e7d5",
   "metadata": {},
   "source": [
    "lst.index(value, start index, stop index, /)\n",
    "\n",
    "The selected code `lst.index(1)` is using the `index()` method on a list object named `lst` to find the position of the value `1`.\n",
    "\n",
    "This method:\n",
    "1. Searches through the list `lst` for the first occurrence of the value `1`\n",
    "2. Returns the index (position) of that value in the list\n",
    "3. Raises a `ValueError` if the value `1` is not found in the list\n",
    "\n",
    "For example, if `lst = [5, 3, 1, 2, 1]`, then `lst.index(1)` would return `2` because `1` first appears at index 2 (the third position, since indexing starts at 0)."
   ]
  },
  {
   "cell_type": "code",
   "execution_count": 61,
   "id": "00f37658-0021-442b-821c-9e4c2ef6fb3c",
   "metadata": {},
   "outputs": [
    {
     "data": {
      "text/plain": [
       "2"
      ]
     },
     "execution_count": 61,
     "metadata": {},
     "output_type": "execute_result"
    }
   ],
   "source": [
    "lst.index(1,1,4)"
   ]
  },
  {
   "cell_type": "code",
   "execution_count": 64,
   "id": "a4799073-c417-4013-b950-35d11bccb33d",
   "metadata": {},
   "outputs": [
    {
     "data": {
      "text/plain": [
       "[1, 4, 1, 1, 2, 3, 4, 4, 5, 1, 4, 1, 1, 2, 3, 4, 4, 5]"
      ]
     },
     "execution_count": 64,
     "metadata": {},
     "output_type": "execute_result"
    }
   ],
   "source": [
    "## whole list will be appended twice.\n",
    "lst*2"
   ]
  },
  {
   "cell_type": "markdown",
   "id": "d7be5c8a-3183-4a2e-a972-1870fd5a5626",
   "metadata": {},
   "source": [
    "## SETS"
   ]
  },
  {
   "cell_type": "markdown",
   "id": "a71a0b55-b9c3-434a-98d6-afb7bb02cf42",
   "metadata": {},
   "source": [
    "Sets in Python are unordered collections of unique elements. They are defined using curly braces {} or the set() constructor. Sets do not allow duplicate values, and they are mutable, meaning you can add or remove elements after the set is created."
   ]
  },
  {
   "cell_type": "code",
   "execution_count": 68,
   "id": "cc1be8ff-74fc-469d-8633-62e373d0bbbd",
   "metadata": {},
   "outputs": [
    {
     "name": "stdout",
     "output_type": "stream",
     "text": [
      "<class 'set'>\n"
     ]
    }
   ],
   "source": [
    "## define an empty set\n",
    "\n",
    "set_var = set()\n",
    "print(type(set_var))"
   ]
  },
  {
   "cell_type": "code",
   "execution_count": 72,
   "id": "818d3289-a2c8-4594-8db0-4851f5359c0d",
   "metadata": {},
   "outputs": [
    {
     "data": {
      "text/plain": [
       "{1, 2, 3, 4}"
      ]
     },
     "execution_count": 72,
     "metadata": {},
     "output_type": "execute_result"
    }
   ],
   "source": [
    "set_var = {1,2,3,4,3}\n",
    "set_var ##  dont print duplicate values"
   ]
  },
  {
   "cell_type": "code",
   "execution_count": 78,
   "id": "b5e37c7b-651a-45a6-bcc3-ee81ab67ec9b",
   "metadata": {},
   "outputs": [
    {
     "name": "stdout",
     "output_type": "stream",
     "text": [
      "{'hitman', 'hulk', 'ironman'}\n"
     ]
    },
    {
     "data": {
      "text/plain": [
       "set"
      ]
     },
     "execution_count": 78,
     "metadata": {},
     "output_type": "execute_result"
    }
   ],
   "source": [
    "## unordered display of element in set\n",
    "set_var = {'ironman','hulk','hitman'}\n",
    "print(set_var)\n",
    "type(set_var)"
   ]
  },
  {
   "cell_type": "code",
   "execution_count": 82,
   "id": "03070328-b6d3-4889-8e24-0e1db6f0f219",
   "metadata": {},
   "outputs": [
    {
     "data": {
      "text/plain": [
       "{'black widow', 'hitman', 'hulk', 'ironman'}"
      ]
     },
     "execution_count": 82,
     "metadata": {},
     "output_type": "execute_result"
    }
   ],
   "source": [
    "##  inbuilt function of set\n",
    "\n",
    "## indexing / column retrival doesnt work in sets\n",
    "## to add a element use set.add()\n",
    "set_var.add(\"black widow\")\n",
    "set_var"
   ]
  },
  {
   "cell_type": "code",
   "execution_count": 86,
   "id": "0bcb67ea-646b-418f-a6cc-ce6396b9167d",
   "metadata": {},
   "outputs": [],
   "source": [
    "set1 = {\"batman\",\"joker\",\"wolverin\",\"hulk\"}\n",
    "set2 = {\"ironman\",\"blackwidow\",\"hulk\",\"captainamerica\",\"wolverin\"}"
   ]
  },
  {
   "cell_type": "code",
   "execution_count": 90,
   "id": "8179c2de-97df-49b1-84d8-d33d0be5aacd",
   "metadata": {},
   "outputs": [
    {
     "data": {
      "text/plain": [
       "{'blackwidow', 'captainamerica', 'ironman'}"
      ]
     },
     "execution_count": 90,
     "metadata": {},
     "output_type": "execute_result"
    }
   ],
   "source": [
    "## difference -- comman element will be removed. but not from the set permanently. for that we use update\n",
    "set2.difference(set1)"
   ]
  },
  {
   "cell_type": "code",
   "execution_count": 93,
   "id": "780b8c5d-5805-4c18-8dff-c76b2a57640d",
   "metadata": {},
   "outputs": [
    {
     "data": {
      "text/plain": [
       "{'blackwidow', 'captainamerica', 'hulk', 'ironman', 'wolverin'}"
      ]
     },
     "execution_count": 93,
     "metadata": {},
     "output_type": "execute_result"
    }
   ],
   "source": [
    "set2"
   ]
  },
  {
   "cell_type": "code",
   "execution_count": 95,
   "id": "902a17b9-891e-4008-b708-f1238073a72b",
   "metadata": {},
   "outputs": [
    {
     "data": {
      "text/plain": [
       "{'blackwidow', 'captainamerica', 'ironman'}"
      ]
     },
     "execution_count": 95,
     "metadata": {},
     "output_type": "execute_result"
    }
   ],
   "source": [
    "## difference update\n",
    "set2.difference_update(set1)\n",
    "set2"
   ]
  },
  {
   "cell_type": "code",
   "execution_count": 99,
   "id": "a78603b5-43cc-4c56-b76c-a3e3882e5951",
   "metadata": {},
   "outputs": [
    {
     "data": {
      "text/plain": [
       "set()"
      ]
     },
     "execution_count": 99,
     "metadata": {},
     "output_type": "execute_result"
    }
   ],
   "source": [
    "## intersection\n",
    "set2.intersection(set1)"
   ]
  },
  {
   "cell_type": "markdown",
   "id": "956722b1-f3cc-40e3-a760-78b973639bbe",
   "metadata": {},
   "source": [
    "## Dictionary "
   ]
  },
  {
   "cell_type": "markdown",
   "id": "6c367a94-1fd1-4510-b5f5-86c417cbb2fd",
   "metadata": {},
   "source": [
    "A dictionary in Python is a mutable collection of key-value pairs that allows for efficient data retrieval using unique keys."
   ]
  },
  {
   "cell_type": "code",
   "execution_count": 105,
   "id": "2a8fd5f7-c184-485c-8eb3-9333a8118add",
   "metadata": {},
   "outputs": [
    {
     "data": {
      "text/plain": [
       "dict"
      ]
     },
     "execution_count": 105,
     "metadata": {},
     "output_type": "execute_result"
    }
   ],
   "source": [
    "dic= {}\n",
    "type(dic)"
   ]
  },
  {
   "cell_type": "code",
   "execution_count": 107,
   "id": "a36bceec-96e0-4d71-8dde-33b3fbc08cbd",
   "metadata": {},
   "outputs": [],
   "source": [
    "## input element in {} for set .\n",
    "## we input key-value pair in {} in dict."
   ]
  },
  {
   "cell_type": "code",
   "execution_count": 113,
   "id": "7297bdad-2be3-4d19-8298-d5019c5419e2",
   "metadata": {},
   "outputs": [
    {
     "data": {
      "text/plain": [
       "dict"
      ]
     },
     "execution_count": 113,
     "metadata": {},
     "output_type": "execute_result"
    }
   ],
   "source": [
    "## creat a dictionary\n",
    "my_dict = {\"car1\":\"audi\",\"car2\":\"bmw\",\"car3\":\"benz\"}\n",
    "type(my_dict)"
   ]
  },
  {
   "cell_type": "code",
   "execution_count": 115,
   "id": "a40476fd-7660-4aa7-8d57-69661e13ba8f",
   "metadata": {},
   "outputs": [
    {
     "data": {
      "text/plain": [
       "'audi'"
      ]
     },
     "execution_count": 115,
     "metadata": {},
     "output_type": "execute_result"
    }
   ],
   "source": [
    "## Access the item values based on keys\n",
    "my_dict['car1']"
   ]
  },
  {
   "cell_type": "code",
   "execution_count": 117,
   "id": "9abffc43-2a36-471a-8bf7-4ab871bf5279",
   "metadata": {},
   "outputs": [
    {
     "name": "stdout",
     "output_type": "stream",
     "text": [
      "car1\n",
      "car2\n",
      "car3\n"
     ]
    }
   ],
   "source": [
    "## we can even loop through the dictionaries keys\n",
    "for x in my_dict:\n",
    "    print(x)"
   ]
  },
  {
   "cell_type": "code",
   "execution_count": 119,
   "id": "c2d93d78-22e2-4572-a13f-763633d9c5ee",
   "metadata": {},
   "outputs": [
    {
     "name": "stdout",
     "output_type": "stream",
     "text": [
      "audi\n",
      "bmw\n",
      "benz\n"
     ]
    }
   ],
   "source": [
    "## we can also check both keys nd values\n",
    "for x in my_dict.values():\n",
    "    print(x)"
   ]
  },
  {
   "cell_type": "code",
   "execution_count": 121,
   "id": "29adbd46-3f3c-44a9-a118-4026d72bb89b",
   "metadata": {},
   "outputs": [
    {
     "name": "stdout",
     "output_type": "stream",
     "text": [
      "('car1', 'audi')\n",
      "('car2', 'bmw')\n",
      "('car3', 'benz')\n"
     ]
    }
   ],
   "source": [
    "## key and value\n",
    "for x in my_dict.items():\n",
    "    print(x)"
   ]
  },
  {
   "cell_type": "code",
   "execution_count": 123,
   "id": "5f09bf51-0875-4901-a128-bf0836126a21",
   "metadata": {},
   "outputs": [
    {
     "data": {
      "text/plain": [
       "{'car1': 'audi', 'car2': 'bmw', 'car3': 'benz', 'car4': 'audi 2.0'}"
      ]
     },
     "execution_count": 123,
     "metadata": {},
     "output_type": "execute_result"
    }
   ],
   "source": [
    "## adding item in dictionary\n",
    "my_dict[\"car4\"] = \"audi 2.0\"\n",
    "my_dict"
   ]
  },
  {
   "cell_type": "code",
   "execution_count": 129,
   "id": "214b7f4b-484f-494c-9793-0e49bb1c2a6c",
   "metadata": {},
   "outputs": [
    {
     "data": {
      "text/plain": [
       "{'car1': 'lambo', 'car2': 'bmw', 'car3': 'benz', 'car4': 'audi 2.0'}"
      ]
     },
     "execution_count": 129,
     "metadata": {},
     "output_type": "execute_result"
    }
   ],
   "source": [
    "## value updated\n",
    "my_dict[\"car1\"] = \"lambo\"\n",
    "my_dict"
   ]
  },
  {
   "cell_type": "markdown",
   "id": "f262eac5-64ca-48ab-bebc-99960d687466",
   "metadata": {},
   "source": [
    "### Nested Dictionary"
   ]
  },
  {
   "cell_type": "code",
   "execution_count": 134,
   "id": "b4ce26a5-aa32-45b6-aeb0-74c56aef2f23",
   "metadata": {},
   "outputs": [
    {
     "name": "stdout",
     "output_type": "stream",
     "text": [
      "{'car1': {'benz': 1960}, 'car2': {'audi': 1970}, 'car3': {'ambassador': 1980}}\n"
     ]
    }
   ],
   "source": [
    "## dict - 1\n",
    "car1_model = {'benz':1960}\n",
    "car2_model = {'audi':1970}\n",
    "car3_model = {'ambassador':1980}\n",
    "\n",
    "## dict - 2\n",
    "car_type = {'car1':car1_model,'car2':car2_model,'car3':car3_model}\n",
    "print(car_type)"
   ]
  },
  {
   "cell_type": "code",
   "execution_count": 136,
   "id": "d0c9b277-ee10-406a-a8e0-f75651e5812c",
   "metadata": {},
   "outputs": [
    {
     "name": "stdout",
     "output_type": "stream",
     "text": [
      "{'benz': 1960}\n"
     ]
    }
   ],
   "source": [
    "## accessing the irem in dictionary\n",
    "print(car_type['car1'])"
   ]
  },
  {
   "cell_type": "code",
   "execution_count": 142,
   "id": "2884eb9b-f47a-4819-8bd7-772712ceffb0",
   "metadata": {},
   "outputs": [
    {
     "name": "stdout",
     "output_type": "stream",
     "text": [
      "1960\n"
     ]
    }
   ],
   "source": [
    "print(car_type['car1']['benz'])"
   ]
  },
  {
   "cell_type": "markdown",
   "id": "527e315c-f75f-434f-9c27-ebb843d7baee",
   "metadata": {},
   "source": [
    "## Tuples"
   ]
  },
  {
   "cell_type": "markdown",
   "id": "2c127be6-4175-4cd2-909f-cb54b850f7c7",
   "metadata": {},
   "source": [
    "Tuples are ordered, immutable sequences of items. They are similar to lists, but they cannot be changed after creation. Tuples are defined using parentheses () and can contain elements of different data types. "
   ]
  },
  {
   "cell_type": "code",
   "execution_count": 150,
   "id": "8a62a966-e0b0-412e-8b66-dd52b56766da",
   "metadata": {},
   "outputs": [
    {
     "data": {
      "text/plain": [
       "tuple"
      ]
     },
     "execution_count": 150,
     "metadata": {},
     "output_type": "execute_result"
    }
   ],
   "source": [
    "## create an empty tuple\n",
    "my_tuple = tuple()\n",
    "type(my_tuple)"
   ]
  },
  {
   "cell_type": "code",
   "execution_count": 152,
   "id": "af929a21-6723-4a36-b2c6-33ec1ab708c1",
   "metadata": {},
   "outputs": [
    {
     "data": {
      "text/plain": [
       "('ananya', 'kushwaha', 'duke')"
      ]
     },
     "execution_count": 152,
     "metadata": {},
     "output_type": "execute_result"
    }
   ],
   "source": [
    "my_tuple = ('ananya','kushwaha','duke')\n",
    "my_tuple"
   ]
  },
  {
   "cell_type": "code",
   "execution_count": 156,
   "id": "a43379a5-f572-49f5-b937-ce73f3b02b5f",
   "metadata": {},
   "outputs": [
    {
     "data": {
      "text/plain": [
       "'ananya'"
      ]
     },
     "execution_count": 156,
     "metadata": {},
     "output_type": "execute_result"
    }
   ],
   "source": [
    "my_tuple[0]"
   ]
  },
  {
   "cell_type": "code",
   "execution_count": 160,
   "id": "4bd1651f-b6b6-48ea-8f42-e13711a9ed42",
   "metadata": {},
   "outputs": [
    {
     "data": {
      "text/plain": [
       "['hello', 'world']"
      ]
     },
     "execution_count": 160,
     "metadata": {},
     "output_type": "execute_result"
    }
   ],
   "source": [
    "## tuple can be replaced but elements cant be replaced\n",
    "## no item assignent applicable\n",
    "my_tuple = ['hello','world']\n",
    "my_tuple"
   ]
  },
  {
   "cell_type": "code",
   "execution_count": 162,
   "id": "138abce9-0dcc-426f-b0d2-f1d9b0b6bee7",
   "metadata": {},
   "outputs": [
    {
     "data": {
      "text/plain": [
       "1"
      ]
     },
     "execution_count": 162,
     "metadata": {},
     "output_type": "execute_result"
    }
   ],
   "source": [
    "## inbuilt function\n",
    "my_tuple = ('ananya','kushwaha','duke')\n",
    "\n",
    "## count the element in a tuple\n",
    "my_tuple.count('ananya')"
   ]
  },
  {
   "cell_type": "code",
   "execution_count": 166,
   "id": "966e6243-3bfb-477d-b82a-275d239db4f7",
   "metadata": {},
   "outputs": [
    {
     "data": {
      "text/plain": [
       "2"
      ]
     },
     "execution_count": 166,
     "metadata": {},
     "output_type": "execute_result"
    }
   ],
   "source": [
    "## gives index of the element\n",
    "my_tuple.index('duke')"
   ]
  }
 ],
 "metadata": {
  "kernelspec": {
   "display_name": "Python [conda env:base] *",
   "language": "python",
   "name": "conda-base-py"
  },
  "language_info": {
   "codemirror_mode": {
    "name": "ipython",
    "version": 3
   },
   "file_extension": ".py",
   "mimetype": "text/x-python",
   "name": "python",
   "nbconvert_exporter": "python",
   "pygments_lexer": "ipython3",
   "version": "3.12.7"
  }
 },
 "nbformat": 4,
 "nbformat_minor": 5
}
